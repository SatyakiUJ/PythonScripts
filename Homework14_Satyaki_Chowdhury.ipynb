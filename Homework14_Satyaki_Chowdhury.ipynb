{
 "cells": [
  {
   "cell_type": "code",
   "execution_count": 1,
   "id": "fc32678d",
   "metadata": {},
   "outputs": [
    {
     "data": {
      "text/plain": [
       "3.142248"
      ]
     },
     "execution_count": 1,
     "metadata": {},
     "output_type": "execute_result"
    }
   ],
   "source": [
    "#Approximate the value of pi using a Monte Carlo method (Input points 10,10^2,10^3,10^4,10^5,10^6)\n",
    "import numba\n",
    "from random import *\n",
    "import math\n",
    "from math import sqrt\n",
    "\n",
    "@numba.jit(nopython=True)\n",
    "def pi_value(pi): \n",
    "    inside = 0\n",
    "    inp =1000000\n",
    "    for i in range(0,inp):\n",
    "        x=random()\n",
    "        y=random()\n",
    "        if sqrt(x*x+y*y)<=1:\n",
    "            inside+=1\n",
    "    pi=4*inside/inp \n",
    "    return pi\n",
    "\n",
    "pi = math.pi      \n",
    "pi_value(pi)\n"
   ]
  },
  {
   "cell_type": "code",
   "execution_count": null,
   "id": "0b9fe4ef",
   "metadata": {},
   "outputs": [],
   "source": []
  },
  {
   "cell_type": "code",
   "execution_count": null,
   "id": "2517f788",
   "metadata": {},
   "outputs": [],
   "source": []
  },
  {
   "cell_type": "code",
   "execution_count": null,
   "id": "49f8521e",
   "metadata": {},
   "outputs": [],
   "source": []
  }
 ],
 "metadata": {
  "kernelspec": {
   "display_name": "Python 3",
   "language": "python",
   "name": "python3"
  },
  "language_info": {
   "codemirror_mode": {
    "name": "ipython",
    "version": 3
   },
   "file_extension": ".py",
   "mimetype": "text/x-python",
   "name": "python",
   "nbconvert_exporter": "python",
   "pygments_lexer": "ipython3",
   "version": "3.8.8"
  }
 },
 "nbformat": 4,
 "nbformat_minor": 5
}
