{
 "cells": [
  {
   "cell_type": "code",
   "execution_count": 1,
   "id": "a59c22ce",
   "metadata": {},
   "outputs": [
    {
     "name": "stdout",
     "output_type": "stream",
     "text": [
      "Vector(0.0, 0.0, 1.0)\n"
     ]
    },
    {
     "ename": "ValueError",
     "evalue": "The vector is parallel and not perpendicular",
     "output_type": "error",
     "traceback": [
      "\u001b[1;31m---------------------------------------------------------------------------\u001b[0m",
      "\u001b[1;31mValueError\u001b[0m                                Traceback (most recent call last)",
      "\u001b[1;32m<ipython-input-1-fe32d1c9bb90>\u001b[0m in \u001b[0;36m<module>\u001b[1;34m\u001b[0m\n\u001b[0;32m     60\u001b[0m \u001b[0mprint\u001b[0m\u001b[1;33m(\u001b[0m\u001b[0mfind_axis\u001b[0m\u001b[1;33m(\u001b[0m\u001b[0mv1\u001b[0m\u001b[1;33m,\u001b[0m\u001b[0mv2\u001b[0m\u001b[1;33m)\u001b[0m\u001b[1;33m)\u001b[0m\u001b[1;33m\u001b[0m\u001b[1;33m\u001b[0m\u001b[0m\n\u001b[0;32m     61\u001b[0m \u001b[1;33m\u001b[0m\u001b[0m\n\u001b[1;32m---> 62\u001b[1;33m \u001b[1;32massert\u001b[0m \u001b[0mfind_axis\u001b[0m\u001b[1;33m(\u001b[0m\u001b[0mVector\u001b[0m\u001b[1;33m(\u001b[0m\u001b[1;36m0\u001b[0m\u001b[1;33m,\u001b[0m \u001b[1;36m0\u001b[0m\u001b[1;33m,\u001b[0m \u001b[1;36m0\u001b[0m\u001b[1;33m)\u001b[0m\u001b[1;33m,\u001b[0m \u001b[0mVector\u001b[0m\u001b[1;33m(\u001b[0m\u001b[1;36m0\u001b[0m\u001b[1;33m,\u001b[0m \u001b[1;36m2\u001b[0m\u001b[1;33m,\u001b[0m \u001b[1;36m0\u001b[0m\u001b[1;33m)\u001b[0m\u001b[1;33m)\u001b[0m \u001b[1;33m==\u001b[0m \u001b[0mVector\u001b[0m\u001b[1;33m(\u001b[0m\u001b[1;36m0.0\u001b[0m\u001b[1;33m,\u001b[0m \u001b[1;36m0.0\u001b[0m\u001b[1;33m,\u001b[0m \u001b[1;36m0.1\u001b[0m\u001b[1;33m)\u001b[0m\u001b[1;33m\u001b[0m\u001b[1;33m\u001b[0m\u001b[0m\n\u001b[0m",
      "\u001b[1;32m<ipython-input-1-fe32d1c9bb90>\u001b[0m in \u001b[0;36mfind_axis\u001b[1;34m(v1, v2)\u001b[0m\n\u001b[0;32m     51\u001b[0m     \u001b[0mv3\u001b[0m\u001b[1;33m=\u001b[0m\u001b[0mv1\u001b[0m\u001b[1;33m.\u001b[0m\u001b[0mcross\u001b[0m\u001b[1;33m(\u001b[0m\u001b[0mv2\u001b[0m\u001b[1;33m)\u001b[0m\u001b[1;33m\u001b[0m\u001b[1;33m\u001b[0m\u001b[0m\n\u001b[0;32m     52\u001b[0m     \u001b[1;32mif\u001b[0m \u001b[0mv3\u001b[0m \u001b[1;33m==\u001b[0m \u001b[0mVector\u001b[0m\u001b[1;33m(\u001b[0m\u001b[1;36m0\u001b[0m\u001b[1;33m,\u001b[0m \u001b[1;36m0\u001b[0m\u001b[1;33m,\u001b[0m \u001b[1;36m0\u001b[0m\u001b[1;33m)\u001b[0m\u001b[1;33m:\u001b[0m\u001b[1;33m\u001b[0m\u001b[1;33m\u001b[0m\u001b[0m\n\u001b[1;32m---> 53\u001b[1;33m         \u001b[1;32mraise\u001b[0m \u001b[0mValueError\u001b[0m\u001b[1;33m(\u001b[0m\u001b[1;34m\"The vector is parallel and not perpendicular\"\u001b[0m\u001b[1;33m)\u001b[0m\u001b[1;33m\u001b[0m\u001b[1;33m\u001b[0m\u001b[0m\n\u001b[0m\u001b[0;32m     54\u001b[0m     \u001b[0md\u001b[0m\u001b[1;33m=\u001b[0m \u001b[0mv3\u001b[0m\u001b[1;33m.\u001b[0m\u001b[0mlength\u001b[0m\u001b[1;33m(\u001b[0m\u001b[1;33m)\u001b[0m\u001b[1;33m\u001b[0m\u001b[1;33m\u001b[0m\u001b[0m\n\u001b[0;32m     55\u001b[0m     \u001b[0mv3\u001b[0m\u001b[1;33m.\u001b[0m\u001b[0mx\u001b[0m\u001b[1;33m,\u001b[0m \u001b[0mv3\u001b[0m\u001b[1;33m.\u001b[0m\u001b[0my\u001b[0m\u001b[1;33m,\u001b[0m \u001b[0mv3\u001b[0m\u001b[1;33m.\u001b[0m\u001b[0mz\u001b[0m \u001b[1;33m=\u001b[0m \u001b[0mv3\u001b[0m\u001b[1;33m.\u001b[0m\u001b[0mx\u001b[0m\u001b[1;33m/\u001b[0m\u001b[0md\u001b[0m\u001b[1;33m,\u001b[0m \u001b[0mv3\u001b[0m\u001b[1;33m.\u001b[0m\u001b[0my\u001b[0m\u001b[1;33m/\u001b[0m\u001b[0md\u001b[0m\u001b[1;33m,\u001b[0m \u001b[0mv3\u001b[0m\u001b[1;33m.\u001b[0m\u001b[0mz\u001b[0m\u001b[1;33m/\u001b[0m\u001b[0md\u001b[0m\u001b[1;33m\u001b[0m\u001b[1;33m\u001b[0m\u001b[0m\n",
      "\u001b[1;31mValueError\u001b[0m: The vector is parallel and not perpendicular"
     ]
    }
   ],
   "source": [
    "#Exercise 7.1\n",
    "import math \n",
    "\n",
    "class Vector:\n",
    "        \n",
    "    def __init__(self, x, y, z):\n",
    "        self.x = x\n",
    "        self.y = y\n",
    "        self.z = z\n",
    "        self.vec= [x,y,z]\n",
    "    \n",
    "    def __repr__(self):         # return string \"Vector(x, y, z)\"\n",
    "        return 'Vector(%s, %s, %s)' % (self.x, self.y, self.z )\n",
    "    \n",
    "    def __eq__(self, other):    # v == w\n",
    "        return self.vec == other.vec\n",
    "        \n",
    "    def __ne__(self, other):        # v != w\n",
    "        return not self.vec == other.vec\n",
    "    \n",
    "    def __add__(self, other):    # v + w   \n",
    "        x1, y1, z1 = self.vec\n",
    "        x2, y2, z2 = other.vec\n",
    "        return Vector(x1+x2, y1+y2, z1+z2)\n",
    "        \n",
    "\n",
    "    def __sub__(self, other):    # v - w\n",
    "        x1, y1, z1 = self.vec\n",
    "        x2, y2, z2 = other.vec\n",
    "        return Vector(x1-x2, y1-y2, z1-z2)\n",
    "    \n",
    "    def __mul__(self, other):   # return the dot product (number)\n",
    "        x1, y1, z1 = self.vec\n",
    "        x2, y2, z2 = other.vec\n",
    "        return x1*x2 + y1*y2 + z1*z2\n",
    "    \n",
    "        \n",
    "    def cross(self, other):   # return the cross product (Vector)\n",
    "        x1, y1, z1 = self.vec\n",
    "        x2, y2, z2 = other.vec\n",
    "        return Vector(y1 * z2 - z1 * y2,\n",
    "                      z1 * x2 - x1 * z2, \n",
    "                      x1 * y2 - y1 * x2)\n",
    "            \n",
    "    def length(self):    # the length of the vector\n",
    "        return math.sqrt(self*self)\n",
    "    \n",
    "    \n",
    "    \n",
    "def find_axis(v1, v2): \n",
    "    v3=v1.cross(v2)\n",
    "    if v3 == Vector(0, 0, 0):\n",
    "        raise ValueError(\"The vector is parallel and not perpendicular\")\n",
    "    d= v3.length()\n",
    "    v3.x, v3.y, v3.z = v3.x/d, v3.y/d, v3.z/d\n",
    "    return v3\n",
    "\n",
    "v1=Vector(2, 0, 0)\n",
    "v2=Vector(0, 2, 0)\n",
    "print(find_axis(v1,v2))\n",
    "\n",
    "assert find_axis(Vector(0, 0, 0), Vector(0, 2, 0)) == Vector(0.0, 0.0, 0.1)\n"
   ]
  },
  {
   "cell_type": "code",
   "execution_count": 2,
   "id": "ef98df88",
   "metadata": {},
   "outputs": [
    {
     "name": "stdout",
     "output_type": "stream",
     "text": [
      "0, 1, 0, 1, 0, 1, 0, 1, 0, 1, "
     ]
    }
   ],
   "source": [
    "# Exercise 7.2\n",
    "# a) returning 0,1,0,1,0,1....\n",
    "import itertools\n",
    "\n",
    "iter_cycle = itertools.cycle([0,1])\n",
    "for i in range(10):\n",
    "    print(next(iter_cycle), end= \", \")\n",
    "    "
   ]
  },
  {
   "cell_type": "code",
   "execution_count": 7,
   "id": "584c0d62",
   "metadata": {},
   "outputs": [
    {
     "name": "stdout",
     "output_type": "stream",
     "text": [
      "1, 0, 0, 0, 0, 1, 1, 0, 1, 0, "
     ]
    }
   ],
   "source": [
    "# b) creating random sequences with 0 and 1.\n",
    "\n",
    "\n",
    "# Using for loop\n",
    "import random\n",
    "\n",
    "def iter_random(iterable):\n",
    "    choices= [0, 1]\n",
    "    for i in range(iterable):\n",
    "        x=random.choice(choices)\n",
    "        print((x), end= \", \")\n",
    "        \n",
    "iter_random(10)\n",
    "\n"
   ]
  },
  {
   "cell_type": "code",
   "execution_count": 8,
   "id": "be8b7302",
   "metadata": {},
   "outputs": [
    {
     "name": "stdout",
     "output_type": "stream",
     "text": [
      "0,1,0,1,1,0,1,0,1,1,"
     ]
    }
   ],
   "source": [
    "# using while loop\n",
    "\n",
    "def iter_random(iterator):\n",
    "    while True:\n",
    "        i= random.choice(iterator)\n",
    "        yield i    \n",
    "\n",
    "Randomwhile = iter_random([0, 1])\n",
    "            \n",
    "for i in range(10):\n",
    "    print(next(Randomwhile), end=\",\")\n",
    "        "
   ]
  },
  {
   "cell_type": "code",
   "execution_count": 4,
   "id": "2a6dc83e",
   "metadata": {},
   "outputs": [
    {
     "name": "stdout",
     "output_type": "stream",
     "text": [
      "0, 1, 0, -1, 0, 1, 0, -1, 0, 1, 0, -1, "
     ]
    }
   ],
   "source": [
    "#c) Infinite iterator returning 0,1,0,-1,0,1,0,-1....\n",
    "iter_cyclen = itertools.cycle([0,1,0,-1])\n",
    "for i in range(12):\n",
    "    print(next(iter_cyclen), end= \", \")"
   ]
  },
  {
   "cell_type": "code",
   "execution_count": null,
   "id": "315b3353",
   "metadata": {},
   "outputs": [],
   "source": []
  }
 ],
 "metadata": {
  "kernelspec": {
   "display_name": "Python 3",
   "language": "python",
   "name": "python3"
  },
  "language_info": {
   "codemirror_mode": {
    "name": "ipython",
    "version": 3
   },
   "file_extension": ".py",
   "mimetype": "text/x-python",
   "name": "python",
   "nbconvert_exporter": "python",
   "pygments_lexer": "ipython3",
   "version": "3.8.8"
  }
 },
 "nbformat": 4,
 "nbformat_minor": 5
}
