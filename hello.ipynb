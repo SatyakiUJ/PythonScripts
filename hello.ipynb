{
 "cells": [
  {
   "cell_type": "code",
   "execution_count": null,
   "id": "2671578c",
   "metadata": {},
   "outputs": [
    {
     "name": "stdout",
     "output_type": "stream",
     "text": [
      "Enter your name: Satyaki\n",
      "Hello Satyaki!\n",
      "S 83\n",
      "a 97\n",
      "t 116\n",
      "y 121\n",
      "a 97\n",
      "k 107\n",
      "i 105\n"
     ]
    }
   ],
   "source": [
    "name = input(\"Enter your name: \")\n",
    "print ( \"Hello {}!\".format(name) )\n",
    "for char in name:\n",
    "    print(char, ord(char))   # ASCII code\n",
    "input(\"Press any key ...\")   # on Windows"
   ]
  },
  {
   "cell_type": "code",
   "execution_count": null,
   "id": "0ec756c8",
   "metadata": {},
   "outputs": [],
   "source": []
  }
 ],
 "metadata": {
  "kernelspec": {
   "display_name": "Python 3",
   "language": "python",
   "name": "python3"
  },
  "language_info": {
   "codemirror_mode": {
    "name": "ipython",
    "version": 3
   },
   "file_extension": ".py",
   "mimetype": "text/x-python",
   "name": "python",
   "nbconvert_exporter": "python",
   "pygments_lexer": "ipython3",
   "version": "3.8.8"
  }
 },
 "nbformat": 4,
 "nbformat_minor": 5
}
