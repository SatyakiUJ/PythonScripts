{
 "cells": [
  {
   "cell_type": "code",
   "execution_count": 3,
   "id": "fc783318",
   "metadata": {},
   "outputs": [
    {
     "ename": "TypeError",
     "evalue": "Vector() takes no arguments",
     "output_type": "error",
     "traceback": [
      "\u001b[1;31m---------------------------------------------------------------------------\u001b[0m",
      "\u001b[1;31mTypeError\u001b[0m                                 Traceback (most recent call last)",
      "\u001b[1;32m<ipython-input-3-fd17340d0f1d>\u001b[0m in \u001b[0;36m<module>\u001b[1;34m\u001b[0m\n\u001b[0;32m     51\u001b[0m \u001b[1;31m# Exemplary tests.\u001b[0m\u001b[1;33m\u001b[0m\u001b[1;33m\u001b[0m\u001b[1;33m\u001b[0m\u001b[0m\n\u001b[0;32m     52\u001b[0m \u001b[1;32mimport\u001b[0m \u001b[0mmath\u001b[0m\u001b[1;33m\u001b[0m\u001b[1;33m\u001b[0m\u001b[0m\n\u001b[1;32m---> 53\u001b[1;33m \u001b[0mv\u001b[0m \u001b[1;33m=\u001b[0m \u001b[0mVector\u001b[0m\u001b[1;33m(\u001b[0m\u001b[1;36m1\u001b[0m\u001b[1;33m,\u001b[0m \u001b[1;36m2\u001b[0m\u001b[1;33m,\u001b[0m \u001b[1;36m3\u001b[0m\u001b[1;33m)\u001b[0m\u001b[1;33m\u001b[0m\u001b[1;33m\u001b[0m\u001b[0m\n\u001b[0m\u001b[0;32m     54\u001b[0m \u001b[0mw\u001b[0m \u001b[1;33m=\u001b[0m \u001b[0mVector\u001b[0m\u001b[1;33m(\u001b[0m\u001b[1;36m2\u001b[0m\u001b[1;33m,\u001b[0m \u001b[1;33m-\u001b[0m\u001b[1;36m3\u001b[0m\u001b[1;33m,\u001b[0m \u001b[1;36m2\u001b[0m\u001b[1;33m)\u001b[0m\u001b[1;33m\u001b[0m\u001b[1;33m\u001b[0m\u001b[0m\n\u001b[0;32m     55\u001b[0m \u001b[1;32massert\u001b[0m \u001b[0mv\u001b[0m \u001b[1;33m!=\u001b[0m \u001b[0mw\u001b[0m\u001b[1;33m\u001b[0m\u001b[1;33m\u001b[0m\u001b[0m\n",
      "\u001b[1;31mTypeError\u001b[0m: Vector() takes no arguments"
     ]
    }
   ],
   "source": [
    "#Homework 6\n",
    "class Vector:\n",
    "        \n",
    "    def init(self, x, y, z):\n",
    "        self.x = x\n",
    "        self.y = y\n",
    "        self.z = z\n",
    "        self.vec= [x,y,z]\n",
    "    \n",
    "    def repr(self):         # return string \"Vector(x, y, z)\"\n",
    "        return 'Vector(%s, %s, %s)' % (self.x, self.y, self.z )\n",
    "    \n",
    "    def eq(self, other):    # v == w\n",
    "        return self.z == other.z\n",
    "        \n",
    "    def ne(self, other):        # v != w\n",
    "        return not self == other\n",
    "    \n",
    "    def add(self, other):    # v + w   \n",
    "        x1, y1, z1 = self.vec\n",
    "        x2, y2, z2 = other.vec\n",
    "        return Vector(x1+x2, y1+y2, z1+z2)\n",
    "        \n",
    "\n",
    "    def sub(self, other):    # v - w\n",
    "        x1, y1, z1 = self.vec\n",
    "        x2, y2, z2 = other.vec\n",
    "        return Vector(x1-x2, y1-y2, z1-z2)\n",
    "    \n",
    "    def mul(self, other):   # return the dot product (number)\n",
    "        x1, y1, z1 = self.vec\n",
    "        x2, y2, z2 = other.vec\n",
    "        return x1*x2 + y1*y2 + z1*z2\n",
    "        \n",
    "        \n",
    "    def cross(self, other):   # return the cross product (Vector)\n",
    "        a1, a2, a3 = self.vec\n",
    "        b1, b2, b3 = other.vec\n",
    "        return Vector(a2 * b3 - a3 * b2,\n",
    "                       a3 * b1 - a1 * b3, \n",
    "                       a1 * b2 - a2 * b1)\n",
    "            \n",
    "    def length(self):    # the length of the vector\n",
    "    \n",
    "        return (self.x**2 + self.y**2 + self.z**2)**(.5)\n",
    "        \n",
    "        \n",
    "    def hash(self):   # we assume that vectors are immutable\n",
    "        return hash((self.x, self.y, self.z))   # recommended\n",
    "\n",
    "# Exemplary tests.\n",
    "import math\n",
    "v = Vector(1, 2, 3)\n",
    "w = Vector(2, -3, 2)\n",
    "assert v != w\n",
    "assert v == v\n",
    "assert v + w == Vector(3, -1, 5)\n",
    "assert v - w == Vector(-1, 5, 1)\n",
    "assert v * w == 2\n",
    "assert v.cross(w) == Vector(13, 4, -7)\n",
    "assert v.length() == math.sqrt(14)\n",
    "S = set([v, v, w])\n",
    "assert len(S) == 2\n",
    "print(v)\n",
    "print(w)\n",
    "#print(v == w)\n",
    "#print(v != w )\n",
    "#print(v.cross(w))\n",
    "#print(v * w)\n",
    "print(\"Tests passed\")"
   ]
  },
  {
   "cell_type": "code",
   "execution_count": null,
   "id": "d2fd859e",
   "metadata": {},
   "outputs": [],
   "source": []
  }
 ],
 "metadata": {
  "kernelspec": {
   "display_name": "Python 3",
   "language": "python",
   "name": "python3"
  },
  "language_info": {
   "codemirror_mode": {
    "name": "ipython",
    "version": 3
   },
   "file_extension": ".py",
   "mimetype": "text/x-python",
   "name": "python",
   "nbconvert_exporter": "python",
   "pygments_lexer": "ipython3",
   "version": "3.8.8"
  }
 },
 "nbformat": 4,
 "nbformat_minor": 5
}
