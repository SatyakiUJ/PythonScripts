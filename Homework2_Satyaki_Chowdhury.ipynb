{
 "cells": [
  {
   "cell_type": "code",
   "execution_count": 2,
   "id": "452e795e",
   "metadata": {},
   "outputs": [
    {
     "data": {
      "text/plain": [
       "'204567384650897563400, The number of zeros is: 4'"
      ]
     },
     "execution_count": 2,
     "metadata": {},
     "output_type": "execute_result"
    }
   ],
   "source": [
    "#Problem 2.1\n",
    "\n",
    "n=204567384650897563400\n",
    "con_n=str(n)\n",
    "\"{}, The number of zeros is: {}\".format(n, con_n.count(\"0\"))\n"
   ]
  },
  {
   "cell_type": "code",
   "execution_count": 18,
   "id": "e85c5b4e",
   "metadata": {},
   "outputs": [
    {
     "data": {
      "text/plain": [
       "3"
      ]
     },
     "execution_count": 18,
     "metadata": {},
     "output_type": "execute_result"
    }
   ],
   "source": [
    "#Problem 2.2\n",
    "x=5\n",
    "# It assigns the value 5 to x.\n",
    "\n",
    "x==5 and 3\n",
    "# It checks the first operation and evaluates the second if the first is true.\n",
    "#Since x was assigned 5 in the previous line.\n",
    "#This operation returns 3 upon execution."
   ]
  },
  {
   "cell_type": "code",
   "execution_count": 19,
   "id": "0b4f700a",
   "metadata": {},
   "outputs": [
    {
     "data": {
      "text/plain": [
       "False"
      ]
     },
     "execution_count": 19,
     "metadata": {},
     "output_type": "execute_result"
    }
   ],
   "source": [
    "x==4 and 3\n",
    "#Since x was assigned 5 in the previous line.\n",
    "#This operation returns False upon execution."
   ]
  },
  {
   "cell_type": "code",
   "execution_count": 20,
   "id": "ab2b032f",
   "metadata": {},
   "outputs": [
    {
     "data": {
      "text/plain": [
       "True"
      ]
     },
     "execution_count": 20,
     "metadata": {},
     "output_type": "execute_result"
    }
   ],
   "source": [
    "3 and x==5\n",
    "# After reading the integer 3 the AND operation is executed.\n",
    "# Since x has been assigned 5 earlier, it returns true as output."
   ]
  },
  {
   "cell_type": "code",
   "execution_count": 21,
   "id": "fe4bdbcb",
   "metadata": {},
   "outputs": [
    {
     "data": {
      "text/plain": [
       "False"
      ]
     },
     "execution_count": 21,
     "metadata": {},
     "output_type": "execute_result"
    }
   ],
   "source": [
    "3 and x==4\n",
    "# After reading the integer 3 the AND operation is executed.\n",
    "# Since x has been assigned 5 earlier and not 4, it returns False as output."
   ]
  },
  {
   "cell_type": "code",
   "execution_count": 3,
   "id": "2973ce67",
   "metadata": {},
   "outputs": [
    {
     "name": "stdout",
     "output_type": "stream",
     "text": [
      "The Summation of the series is 1377818771\n"
     ]
    }
   ],
   "source": [
    "#Problem 2.3\n",
    "Series_sum= sum(n*n for n in range(1, 2022, 2))\n",
    "print(\"The Summation of the series is\",Series_sum)"
   ]
  },
  {
   "cell_type": "code",
   "execution_count": 13,
   "id": "bb180d9d",
   "metadata": {},
   "outputs": [
    {
     "name": "stdout",
     "output_type": "stream",
     "text": [
      "S-83  a-97  t-116  y-121  a-97  k-107  i-105  "
     ]
    }
   ],
   "source": [
    "# Problem 2.4a\n",
    "for char in \"Satyaki\":\n",
    "    print(\"{}-{} \".format(char, ord(char), ascii(char), utf = char.encode('utf-8')),end=' ')"
   ]
  },
  {
   "cell_type": "code",
   "execution_count": 15,
   "id": "8d388287",
   "metadata": {},
   "outputs": [
    {
     "name": "stdout",
     "output_type": "stream",
     "text": [
      "+---+--------------------+------+----------+\n",
      "|No.|Name (en)           |Symbol|Weight (u)|\n",
      "+---+--------------------+------+----------+\n",
      "|  1|Hydrogen            |H     |         1|\n",
      "|  2|Helium              |He    |         4|\n",
      "|  3|Litium              |Li    |      6.94|\n",
      "|  4|Beryllium           |Be    |         9|\n",
      "|  5|Boron               |B     |     10.81|\n",
      "|  6|Carbon              |C     |        12|\n",
      "|  7|Nitrogen            |N     |        14|\n",
      "|  8|Oxygen              |O     |        16|\n",
      "|  9|Fluorine            |F     |        19|\n",
      "| 10|Neon                |Ne    |     20.18|\n",
      "+---+--------------------+------+----------+\n"
     ]
    }
   ],
   "source": [
    "#Problem 2.4b\n",
    "border=('+---+--------------------+------+----------+')\n",
    "pt = [(1,\"Hydrogen\",\"H\",1), (2,\"Helium\",\"He\",4), \n",
    "      (3,\"Litium\",\"Li\",6.94), (4,\"Beryllium\",\"Be\",9), \n",
    "      (5,\"Boron\",\"B\",10.81), (6,\"Carbon\",\"C\",12), \n",
    "      (7,\"Nitrogen\",\"N\",14), (8,\"Oxygen\",\"O\",16), \n",
    "      (9,\"Fluorine\",\"F\",19),(10,\"Neon\",\"Ne\",20.18)]\n",
    "\n",
    "T=[border,\"|No.|Name (en)           |Symbol|Weight (u)|\",border]\n",
    "for row in pt:\n",
    "    T.append(\"|{0:>3}|{1:<20}|{2:<6}|{3:>10}|\".format(*row))\n",
    "\n",
    "T.append(border)\n",
    "print(\"\\n\".join(T))"
   ]
  },
  {
   "cell_type": "code",
   "execution_count": 32,
   "id": "b78ed1c0",
   "metadata": {},
   "outputs": [
    {
     "name": "stdout",
     "output_type": "stream",
     "text": [
      "Hi. \n",
      " I am Satyaki Chowdhury.\n",
      " I am a PhD student at Jagiellonian University\n",
      " at the faculty of physics\n",
      "\n",
      "Number of words is: 15\n",
      "Number of letters is: 104\n",
      "Number of black spaces is: 82 \n",
      "\n",
      "Longest word is: Jagiellonian\n",
      "(1) Lexicographic: ['Chowdhury.', 'Hi.', 'I', 'I', 'Jagiellonian', 'PhD', 'Satyaki', 'University', 'a', 'am', 'am', 'at', 'at', 'faculty', 'of', 'physics', 'student', 'the']\n",
      "(2) length: ['I', 'I', 'a', 'am', 'am', 'at', 'at', 'of', 'Hi.', 'PhD', 'the', 'Satyaki', 'student', 'faculty', 'physics', 'Chowdhury.', 'University', 'Jagiellonian']\n"
     ]
    }
   ],
   "source": [
    "#Problem 2.5\n",
    "S=\"Hi. \\n I am Satyaki Chowdhury.\\n I am a PhD student at Jagiellonian University\\n at the faculty of physics\\n\"\n",
    "print(S)\n",
    "W=S.split()\n",
    "\n",
    "print(\"%s\" %('Number of words is:'), len(set(W)))\n",
    "print(\"%s\" %('Number of letters is:'),len(S))\n",
    "print(\"%s\" %('Number of black spaces is:'), sum(len(word) for word in W), \"\\n\")\n",
    "\n",
    "print(\"%s\" %('Longest word is:'), max(W, key=len))\n",
    "print(\"%s\" %('(1) Lexicographic:'), sorted(W))\n",
    "print(\"%s\" %('(2) length:'), sorted(W, key=len))"
   ]
  },
  {
   "cell_type": "code",
   "execution_count": 23,
   "id": "f3580523",
   "metadata": {},
   "outputs": [
    {
     "ename": "IndexError",
     "evalue": "tuple index out of range",
     "output_type": "error",
     "traceback": [
      "\u001b[1;31m---------------------------------------------------------------------------\u001b[0m",
      "\u001b[1;31mIndexError\u001b[0m                                Traceback (most recent call last)",
      "\u001b[1;32m<ipython-input-23-f37fc95d9e69>\u001b[0m in \u001b[0;36m<module>\u001b[1;34m\u001b[0m\n\u001b[0;32m      1\u001b[0m \u001b[1;31m#Problem 2.6\u001b[0m\u001b[1;33m\u001b[0m\u001b[1;33m\u001b[0m\u001b[1;33m\u001b[0m\u001b[0m\n\u001b[0;32m      2\u001b[0m \u001b[0mt\u001b[0m\u001b[1;33m=\u001b[0m\u001b[1;33m(\u001b[0m\u001b[1;36m2\u001b[0m\u001b[1;33m,\u001b[0m\u001b[1;36m4\u001b[0m\u001b[1;33m)\u001b[0m\u001b[1;33m\u001b[0m\u001b[1;33m\u001b[0m\u001b[0m\n\u001b[1;32m----> 3\u001b[1;33m \u001b[0mprint\u001b[0m\u001b[1;33m(\u001b[0m\u001b[0mt\u001b[0m\u001b[1;33m[\u001b[0m\u001b[1;36m2\u001b[0m\u001b[1;33m]\u001b[0m\u001b[1;33m)\u001b[0m\u001b[1;33m\u001b[0m\u001b[1;33m\u001b[0m\u001b[0m\n\u001b[0m\u001b[0;32m      4\u001b[0m \u001b[0mt\u001b[0m\u001b[1;33m.\u001b[0m\u001b[0mappend\u001b[0m\u001b[1;33m(\u001b[0m\u001b[1;36m6\u001b[0m\u001b[1;33m)\u001b[0m\u001b[1;33m\u001b[0m\u001b[1;33m\u001b[0m\u001b[0m\n\u001b[0;32m      5\u001b[0m \u001b[0ma\u001b[0m\u001b[1;33m,\u001b[0m\u001b[0mb\u001b[0m\u001b[1;33m=\u001b[0m\u001b[0mt\u001b[0m\u001b[1;33m;\u001b[0m \u001b[0mprint\u001b[0m\u001b[1;33m(\u001b[0m\u001b[0ma\u001b[0m\u001b[1;33m,\u001b[0m\u001b[0mb\u001b[0m\u001b[1;33m)\u001b[0m\u001b[1;33m\u001b[0m\u001b[1;33m\u001b[0m\u001b[0m\n",
      "\u001b[1;31mIndexError\u001b[0m: tuple index out of range"
     ]
    }
   ],
   "source": [
    "#Problem 2.6\n",
    "t=(2,4)\n",
    "print(t[2])\n",
    "# This returns an error statement as the index is out range. \n",
    "#Index assignment starts from 0 and since it has only two elements,\n",
    "# the numbers are 0 and 1.\n",
    "\n",
    "\n"
   ]
  },
  {
   "cell_type": "code",
   "execution_count": 27,
   "id": "5e6563be",
   "metadata": {},
   "outputs": [
    {
     "ename": "AttributeError",
     "evalue": "'tuple' object has no attribute 'append'",
     "output_type": "error",
     "traceback": [
      "\u001b[1;31m---------------------------------------------------------------------------\u001b[0m",
      "\u001b[1;31mAttributeError\u001b[0m                            Traceback (most recent call last)",
      "\u001b[1;32m<ipython-input-27-ada7ed8a579e>\u001b[0m in \u001b[0;36m<module>\u001b[1;34m\u001b[0m\n\u001b[1;32m----> 1\u001b[1;33m \u001b[0mt\u001b[0m\u001b[1;33m.\u001b[0m\u001b[0mappend\u001b[0m\u001b[1;33m(\u001b[0m\u001b[1;36m4\u001b[0m\u001b[1;33m)\u001b[0m\u001b[1;33m\u001b[0m\u001b[1;33m\u001b[0m\u001b[0m\n\u001b[0m",
      "\u001b[1;31mAttributeError\u001b[0m: 'tuple' object has no attribute 'append'"
     ]
    }
   ],
   "source": [
    "t.append(6)\n",
    "# This shows error. \n",
    "# We cannot add a new object to a pre defined tuple and hence the error."
   ]
  },
  {
   "cell_type": "code",
   "execution_count": 29,
   "id": "2de348cc",
   "metadata": {},
   "outputs": [
    {
     "name": "stdout",
     "output_type": "stream",
     "text": [
      "2 4\n"
     ]
    }
   ],
   "source": [
    "a,b=t\n",
    "print(a,b)\n",
    "# a and b are attributed to 2 and 4."
   ]
  },
  {
   "cell_type": "code",
   "execution_count": 31,
   "id": "c0b54b8d",
   "metadata": {},
   "outputs": [
    {
     "name": "stdout",
     "output_type": "stream",
     "text": [
      "{'I': 1, 'IV': 4, 'V': 5, 'IX': 9, 'X': 10, 'XL': 40, 'L': 50, 'XC': 90, 'C': 100, 'CD': 400, 'D': 500, 'CM': 900, 'M': 1000} \n",
      "\n",
      "dict_values([1, 5, 10, 50, 100, 1000]) \n",
      " dict_keys(['I', 'V', 'X', 'L', 'C', 'M']) \n",
      "\n"
     ]
    }
   ],
   "source": [
    "#Problem 2.7\n",
    "roman=('I', 'IV', 'V', 'IX', 'X', 'XL', 'L', 'XC', 'C', 'CD', 'D', 'CM', 'M')\n",
    "numbers=(1,4,5,9,10,40,50,90,100,400,500,900,1000)\n",
    "D = dict(zip(roman, numbers))\n",
    "print(D, \"\\n\")\n",
    "\n",
    "final_list = {\n",
    "    \"I\": 1,\n",
    "    \"V\": 5,\n",
    "    \"X\": 10,\n",
    "    \"L\": 50,\n",
    "    \"C\": 100,\n",
    "    \"M\": 1000 }\n",
    "\n",
    "print(final_list.values(),\"\\n\",final_list.keys(), \"\\n\")\n"
   ]
  },
  {
   "cell_type": "code",
   "execution_count": null,
   "id": "55811ac8",
   "metadata": {},
   "outputs": [],
   "source": []
  }
 ],
 "metadata": {
  "kernelspec": {
   "display_name": "Python 3",
   "language": "python",
   "name": "python3"
  },
  "language_info": {
   "codemirror_mode": {
    "name": "ipython",
    "version": 3
   },
   "file_extension": ".py",
   "mimetype": "text/x-python",
   "name": "python",
   "nbconvert_exporter": "python",
   "pygments_lexer": "ipython3",
   "version": "3.8.8"
  }
 },
 "nbformat": 4,
 "nbformat_minor": 5
}
