{
 "cells": [
  {
   "cell_type": "code",
   "execution_count": 1,
   "id": "80035fc6",
   "metadata": {},
   "outputs": [
    {
     "data": {
      "text/plain": [
       "6"
      ]
     },
     "execution_count": 1,
     "metadata": {},
     "output_type": "execute_result"
    }
   ],
   "source": [
    "# Problem 1\n",
    "word='python'\n",
    "len(word)"
   ]
  },
  {
   "cell_type": "code",
   "execution_count": 2,
   "id": "9af7d240",
   "metadata": {},
   "outputs": [
    {
     "name": "stdout",
     "output_type": "stream",
     "text": [
      "+---+---+---+---+---+---+\n",
      "| P | y | t | h | o | n |\n",
      "+---+---+---+---+---+---+\n"
     ]
    }
   ],
   "source": [
    "word='Python'\n",
    "n=len(word)\n",
    "#j=0\n",
    "string=''\n",
    "string1=''\n",
    "string2=''\n",
    "for i in range(n):\n",
    "    if i==0:\n",
    "        string1=string1+'+'+'-'*3+'+'\n",
    "        string =string+'|'+' '+word[i]+' '+'|'\n",
    "        string2= string2+'+'+'-'*3+'+'\n",
    "    if i==n: \n",
    "        string1=string1+'-'*3+'+'\n",
    "        string =string+'|'+' '+word[i]+' ' + '|'\n",
    "        string2= string2+'-'*3+'+'\n",
    "    if i>0 and i<n:\n",
    "        string1=string1+'-'*3+'+'\n",
    "        string =string+' '+word[i]+' '+'|'\n",
    "        string2= string2+'-'*3+'+'\n",
    "print(string1)\n",
    "print(string)\n",
    "print(string2)\n",
    "    "
   ]
  },
  {
   "cell_type": "code",
   "execution_count": null,
   "id": "67cb2db3",
   "metadata": {},
   "outputs": [],
   "source": [
    "# Problem 2 (Using for loop)"
   ]
  },
  {
   "cell_type": "code",
   "execution_count": 4,
   "id": "b241af1a",
   "metadata": {},
   "outputs": [
    {
     "name": "stdout",
     "output_type": "stream",
     "text": [
      "1 is not important\n",
      "2 is not important\n",
      "3 is not important\n",
      "4 is not important\n",
      "5 is divided by 5\n",
      "6 is not important\n",
      "7 is divided by 7\n",
      "8 is not important\n",
      "9 is not important\n",
      "10 is divided by 5\n",
      "11 is not important\n",
      "12 is not important\n",
      "14 is divided by 7\n",
      "15 is divided by 5\n",
      "16 is not important\n",
      "17 is not important\n",
      "18 is not important\n",
      "19 is not important\n",
      "20 is divided by 5\n",
      "21 is divided by 7\n",
      "22 is not important\n",
      "23 is not important\n",
      "24 is not important\n",
      "25 is divided by 5\n",
      "26 is not important\n",
      "27 is not important\n",
      "28 is divided by 7\n",
      "29 is not important\n",
      "30 is divided by 5\n",
      "31 is not important\n",
      "32 is not important\n",
      "33 is not important\n",
      "34 is not important\n",
      "35 is divided by 5\n",
      "35 is divided by 7\n",
      "35 is divided by 5 and 7 \n",
      "36 is not important\n",
      "37 is not important\n",
      "38 is not important\n",
      "39 is not important\n"
     ]
    }
   ],
   "source": [
    "for x in range (1,40):\n",
    "    if (x==13):\n",
    "        continue\n",
    "    if ((x%5)==0):\n",
    "        print(x,\"is divided by 5\")\n",
    "    if ((x%7)==0):\n",
    "        print(x,\"is divided by 7\")\n",
    "    if ((x%5)==0 and (x%7)==0):\n",
    "        print(x,\"is divided by 5 and 7 \")\n",
    "    if ((x%5!=0)) and ((x%7!=0)):\n",
    "        print(x,\"is not important\")"
   ]
  },
  {
   "cell_type": "code",
   "execution_count": 5,
   "id": "b8d91d99",
   "metadata": {},
   "outputs": [
    {
     "name": "stdout",
     "output_type": "stream",
     "text": [
      "1 is not important\n",
      "2 is not important\n",
      "3 is not important\n",
      "4 is not important\n",
      "5 is divided by 5\n",
      "6 is not important\n",
      "7 is divided by 7\n",
      "8 is not important\n",
      "9 is not important\n",
      "10 is divided by 5\n",
      "11 is not important\n",
      "12 is not important\n",
      "14 is divided by 7\n",
      "15 is divided by 5\n",
      "16 is not important\n",
      "17 is not important\n",
      "18 is not important\n",
      "19 is not important\n",
      "20 is divided by 5\n",
      "21 is divided by 7\n",
      "22 is not important\n",
      "23 is not important\n",
      "24 is not important\n",
      "25 is divided by 5\n",
      "26 is not important\n",
      "27 is not important\n",
      "28 is divided by 7\n",
      "29 is not important\n",
      "30 is divided by 5\n",
      "31 is not important\n",
      "32 is not important\n",
      "33 is not important\n",
      "34 is not important\n",
      "35 is divided by 5\n",
      "35 is divided by 7\n",
      "35 is divided by 5 and 7 \n",
      "36 is not important\n",
      "37 is not important\n",
      "38 is not important\n",
      "39 is not important\n"
     ]
    }
   ],
   "source": [
    "# Problem 2(Using while loop)\n",
    "x=1\n",
    "while x<40:\n",
    "    if (x!=13):\n",
    "        if ((x%5)==0):\n",
    "            print(x,\"is divided by 5\")\n",
    "        if ((x%7)==0):\n",
    "            print(x,\"is divided by 7\")\n",
    "        if ((x%5)==0 and (x%7)==0):\n",
    "            print(x,\"is divided by 5 and 7 \")\n",
    "        if ((x%5!=0)) and ((x%7!=0)):\n",
    "            print(x,\"is not important\")\n",
    "        x=x+1 \n",
    "    else:\n",
    "        x=x+1"
   ]
  },
  {
   "cell_type": "code",
   "execution_count": null,
   "id": "a9e3b7b3",
   "metadata": {},
   "outputs": [],
   "source": [
    "# Problem 3"
   ]
  },
  {
   "cell_type": "code",
   "execution_count": 7,
   "id": "12885636",
   "metadata": {},
   "outputs": [
    {
     "name": "stdout",
     "output_type": "stream",
     "text": [
      "['2022', 'python', '3.141592653589793', 'book']\n"
     ]
    }
   ],
   "source": [
    "import math\n",
    "outfile = open('vars.txt', 'w')\n",
    "\n",
    "n = 2022\n",
    "word = \"python\"   # 7 code points ('bulb' in English)\n",
    "x=math.pi\n",
    "english=\"book\"\n",
    "L = [\"{}\".format(n), \"{}\".format(word),\"{}\".format(x),\"{}\".format(english)]   # list of lines with '\\n'\n",
    "\n",
    "outfile.writelines(L)\n",
    "print(L)\n",
    "outfile.close()"
   ]
  },
  {
   "cell_type": "code",
   "execution_count": null,
   "id": "09bf9ceb",
   "metadata": {},
   "outputs": [],
   "source": []
  }
 ],
 "metadata": {
  "kernelspec": {
   "display_name": "Python 3",
   "language": "python",
   "name": "python3"
  },
  "language_info": {
   "codemirror_mode": {
    "name": "ipython",
    "version": 3
   },
   "file_extension": ".py",
   "mimetype": "text/x-python",
   "name": "python",
   "nbconvert_exporter": "python",
   "pygments_lexer": "ipython3",
   "version": "3.8.8"
  }
 },
 "nbformat": 4,
 "nbformat_minor": 5
}
