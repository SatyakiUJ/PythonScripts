{
 "cells": [
  {
   "cell_type": "code",
   "execution_count": 1,
   "id": "e67f3a5c",
   "metadata": {},
   "outputs": [
    {
     "name": "stdout",
     "output_type": "stream",
     "text": [
      "False\n"
     ]
    }
   ],
   "source": [
    "# Problem 1\n",
    "p=lambda x,y: float(x)**2+float(y)**2==1\n",
    "print(p(0.5,0.3))"
   ]
  },
  {
   "cell_type": "code",
   "execution_count": 2,
   "id": "9b977370",
   "metadata": {},
   "outputs": [
    {
     "name": "stdout",
     "output_type": "stream",
     "text": [
      "True\n",
      "False\n"
     ]
    }
   ],
   "source": [
    "p=lambda x,y: x>0 and y>0\n",
    "print(p(1,2))\n",
    "print(p(-5,6))"
   ]
  },
  {
   "cell_type": "code",
   "execution_count": 30,
   "id": "000d9490",
   "metadata": {},
   "outputs": [
    {
     "name": "stdout",
     "output_type": "stream",
     "text": [
      "[(5, 6), (-7, 4), (2, 3), (4, 2)]\n",
      "[(-7, 4), (2, 3), (4, 2), (5, 6)]\n",
      "[(2, 3), (4, 2), (-7, 4), (5, 6)]\n"
     ]
    }
   ],
   "source": [
    "L = [(2, 3), (-7, 4), (4, 2), (5,6)]   # a list of points p(x,y)\n",
    "print(sorted(L,key=lambda t: (-t[1], t[0]))) # arrangement as decreasing y. \n",
    "\n",
    "\n",
    "print(sorted(L,key=lambda t: (t[0], t[1]))) #arrangement as increasing x.\n",
    "\n",
    "print(sorted(L,key=lambda t: (abs(t[0])+abs(t[1]),t[0]))) #arrangement as increasing value of |x|+|y|."
   ]
  },
  {
   "cell_type": "code",
   "execution_count": null,
   "id": "2b8de6d5",
   "metadata": {},
   "outputs": [],
   "source": []
  },
  {
   "cell_type": "code",
   "execution_count": 3,
   "id": "109c406e",
   "metadata": {},
   "outputs": [
    {
     "name": "stdout",
     "output_type": "stream",
     "text": [
      "0\n",
      "2\n",
      "4\n",
      "6\n",
      "8\n",
      "10\n",
      "12\n",
      "14\n",
      "16\n",
      "18\n",
      "20\n"
     ]
    }
   ],
   "source": [
    "#Problem 3\n",
    "#First part--- Infinite generators for producing even numbers.\n",
    "def iter_even():  #Infinite even number generator\n",
    "    i=0\n",
    "    yield i\n",
    "    while i>=0:\n",
    "        i=i+2\n",
    "        yield i\n",
    "        \n",
    "for i in iter_even():\n",
    "    print(i)\n",
    "    if i>=20:  #condition applied for manually breaking the loop.\n",
    "        break        "
   ]
  },
  {
   "cell_type": "code",
   "execution_count": 4,
   "id": "19b1544d",
   "metadata": {},
   "outputs": [
    {
     "name": "stdout",
     "output_type": "stream",
     "text": [
      "1\n",
      "3\n",
      "5\n",
      "7\n",
      "9\n",
      "11\n",
      "13\n",
      "15\n",
      "17\n",
      "19\n",
      "21\n"
     ]
    }
   ],
   "source": [
    "#Problem 3\n",
    "#Second part--- Infinite generators for producing odd numbers\n",
    "def iter_odd():  #Infinite odd number generator\n",
    "    i=1\n",
    "    yield i\n",
    "    while i>=1:\n",
    "        i=i+2\n",
    "        yield i\n",
    "        \n",
    "for i in iter_odd():\n",
    "    print(i)\n",
    "    if i>=20:  #condition applied for manually breaking the loop.\n",
    "        break        "
   ]
  },
  {
   "cell_type": "code",
   "execution_count": 5,
   "id": "19f0f9bd",
   "metadata": {},
   "outputs": [
    {
     "name": "stdout",
     "output_type": "stream",
     "text": [
      "1\n",
      "3\n",
      "9\n",
      "27\n",
      "81\n",
      "243\n"
     ]
    }
   ],
   "source": [
    "# Problem 3 \n",
    "# Third part ---- Infinite generators for producing powers of k\n",
    "def power_kgen(k):  #Infinite powers of k generator\n",
    "    i=0\n",
    "    while i>=0:\n",
    "        num=k**i\n",
    "        i+=1\n",
    "        yield num\n",
    "        \n",
    "for num in power_kgen(3): #checking by entering k=5\n",
    "    print(num)\n",
    "    if num>=200:  #condition applied for manually breaking the loop.\n",
    "        break        "
   ]
  },
  {
   "cell_type": "code",
   "execution_count": null,
   "id": "8b85b2fc",
   "metadata": {},
   "outputs": [],
   "source": [
    "#Problem 2\n",
    "L=[1,2,3,5,6,7,8,0]\n",
    "print(L)\n",
    "n=len(L)\n",
    "\n",
    "a=2\n",
    "b=5\n",
    "reverse_list=L[0:a]+L[b:a-1:-1]+L[b+1:]\n",
    "print(reverse_list)"
   ]
  },
  {
   "cell_type": "code",
   "execution_count": null,
   "id": "41da1746",
   "metadata": {},
   "outputs": [],
   "source": [
    "#problem 2\n",
    "L=[0,1,2,3,4,5,6,7,8,9]\n",
    "n=len(L)\n",
    "a=n-5\n",
    "b=n-2\n",
    "i=0\n",
    "#alist = [i*i for i in range(10)] \n",
    "if i<a:\n",
    "    rev=L[i]\n",
    "        \n",
    "reversed_list= L[0:a] + L[b:a-1:-1] + L[b+1:]\n",
    "print(reversed_list)"
   ]
  },
  {
   "cell_type": "code",
   "execution_count": null,
   "id": "234a8d99",
   "metadata": {},
   "outputs": [],
   "source": []
  },
  {
   "cell_type": "code",
   "execution_count": null,
   "id": "138c7066",
   "metadata": {},
   "outputs": [],
   "source": []
  },
  {
   "cell_type": "code",
   "execution_count": 6,
   "id": "1001aa74",
   "metadata": {},
   "outputs": [],
   "source": [
    "#Problem 2(recursive approach)\n",
    "L=[0,1,2,3,4,5,6,7,8,9]\n",
    "n=len(L)\n",
    "def reverse_list(a,b):\n",
    "    if a == 0 or b == n:   # base cases\n",
    "        rev=L[n:0:-1]\n",
    "    else:\n",
    "        rev= L[0:a] + L[b:a-1:-1] + L[b+1:]\n",
    "    print(rev)    "
   ]
  },
  {
   "cell_type": "code",
   "execution_count": 7,
   "id": "ac6a1e9e",
   "metadata": {},
   "outputs": [
    {
     "name": "stdout",
     "output_type": "stream",
     "text": [
      "[0, 1, 5, 4, 3, 2, 6, 7, 8, 9]\n"
     ]
    }
   ],
   "source": [
    "reverse_list(2,5)"
   ]
  },
  {
   "cell_type": "code",
   "execution_count": 24,
   "id": "0a3ebe32",
   "metadata": {},
   "outputs": [
    {
     "name": "stdout",
     "output_type": "stream",
     "text": [
      "10\n",
      "[0, 1, 2, 7, 6, 5, 4, 3, 8, 9]\n"
     ]
    }
   ],
   "source": [
    "#Problem 2(Iterative approach)\n",
    "L1=[0,1,2,3,4,5,6,7,8,9]\n",
    "Length = len(L1)\n",
    "print(Length)\n",
    "a=Length-7\n",
    "b=Length-3\n",
    "rev1=[]\n",
    "rev2=[]\n",
    "rev3=[]\n",
    "for j in range(0,a):\n",
    "    rev1=L[0:a]\n",
    "for j in range(a,b):\n",
    "    rev2=L[b:a-1:-1]\n",
    "for j in range(b,Length):\n",
    "    rev3=L[b+1:Length]\n",
    "    \n",
    "print(rev1+rev2+rev3)    "
   ]
  },
  {
   "cell_type": "code",
   "execution_count": null,
   "id": "ff2fd36f",
   "metadata": {},
   "outputs": [],
   "source": []
  },
  {
   "cell_type": "code",
   "execution_count": null,
   "id": "7aee3c6c",
   "metadata": {},
   "outputs": [],
   "source": []
  }
 ],
 "metadata": {
  "kernelspec": {
   "display_name": "Python 3",
   "language": "python",
   "name": "python3"
  },
  "language_info": {
   "codemirror_mode": {
    "name": "ipython",
    "version": 3
   },
   "file_extension": ".py",
   "mimetype": "text/x-python",
   "name": "python",
   "nbconvert_exporter": "python",
   "pygments_lexer": "ipython3",
   "version": "3.8.8"
  }
 },
 "nbformat": 4,
 "nbformat_minor": 5
}
