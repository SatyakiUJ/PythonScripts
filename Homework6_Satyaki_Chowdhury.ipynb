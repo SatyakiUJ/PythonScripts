{
 "cells": [
  {
   "cell_type": "code",
   "execution_count": 1,
   "id": "b0214f3a",
   "metadata": {},
   "outputs": [
    {
     "name": "stdout",
     "output_type": "stream",
     "text": [
      "Vector(1, 2, 3)\n",
      "Vector(2, -3, 2)\n",
      "True\n",
      "True\n",
      "Tests passed\n"
     ]
    }
   ],
   "source": [
    "\n",
    "class Vector:\n",
    "        \n",
    "    def __init__(self, x, y, z):\n",
    "        self.x = x\n",
    "        self.y = y\n",
    "        self.z = z\n",
    "        self.vec= [x,y,z]\n",
    "    \n",
    "    def __repr__(self):         # return string \"Vector(x, y, z)\"\n",
    "        return 'Vector(%s, %s, %s)' % (self.x, self.y, self.z )\n",
    "    \n",
    "    def __eq__(self, other):    # v == w\n",
    "        return self.vec == other.vec\n",
    "        \n",
    "    def __ne__(self, other):        # v != w\n",
    "        return not self.vec == other.vec\n",
    "    \n",
    "    def __add__(self, other):    # v + w   \n",
    "        x1, y1, z1 = self.vec\n",
    "        x2, y2, z2 = other.vec\n",
    "        return Vector(x1+x2, y1+y2, z1+z2)\n",
    "        \n",
    "\n",
    "    def __sub__(self, other):    # v - w\n",
    "        x1, y1, z1 = self.vec\n",
    "        x2, y2, z2 = other.vec\n",
    "        return Vector(x1-x2, y1-y2, z1-z2)\n",
    "    \n",
    "    def __mul__(self, other):   # return the dot product (number)\n",
    "        x1, y1, z1 = self.vec\n",
    "        x2, y2, z2 = other.vec\n",
    "        return x1*x2 + y1*y2 + z1*z2\n",
    "        \n",
    "        \n",
    "    def cross(self, other):   # return the cross product (Vector)\n",
    "        a1, a2, a3 = self.vec\n",
    "        b1, b2, b3 = other.vec\n",
    "        return Vector(a2 * b3 - a3 * b2,\n",
    "                      a3 * b1 - a1 * b3, \n",
    "                      a1 * b2 - a2 * b1)\n",
    "            \n",
    "    def length(self):    # the length of the vector\n",
    "        return (self.x**2 + self.y**2 + self.z**2)**(.5)\n",
    "        \n",
    "        \n",
    "    def __hash__(self):   # we assume that vectors are immutable\n",
    "        return hash((self.x, self.y, self.z))   # recommended\n",
    "\n",
    "# Exemplary tests.\n",
    "import math\n",
    "v = Vector(1, 2, 3)\n",
    "w = Vector(2, -3, 2)\n",
    "assert v != w\n",
    "assert v == v\n",
    "assert v + w == Vector(3, -1, 5)\n",
    "assert v - w == Vector(-1, 5, 1)\n",
    "assert v * w == 2\n",
    "assert v.cross(w) == Vector(13, 4, -7)\n",
    "assert v.length() == math.sqrt(14)\n",
    "S = set([v, v, w])\n",
    "assert len(S) == 2\n",
    "print(v)\n",
    "print(w)\n",
    "print(v == v)\n",
    "print(v != w )\n",
    "#print(v.cross(w))\n",
    "#print(v * w)\n",
    "\n",
    "print(\"Tests passed\")"
   ]
  },
  {
   "cell_type": "code",
   "execution_count": null,
   "id": "056ef91c",
   "metadata": {},
   "outputs": [],
   "source": []
  }
 ],
 "metadata": {
  "kernelspec": {
   "display_name": "Python 3",
   "language": "python",
   "name": "python3"
  },
  "language_info": {
   "codemirror_mode": {
    "name": "ipython",
    "version": 3
   },
   "file_extension": ".py",
   "mimetype": "text/x-python",
   "name": "python",
   "nbconvert_exporter": "python",
   "pygments_lexer": "ipython3",
   "version": "3.8.8"
  }
 },
 "nbformat": 4,
 "nbformat_minor": 5
}
