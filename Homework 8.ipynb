{
 "cells": [
  {
   "cell_type": "code",
   "execution_count": 9,
   "id": "60cce291",
   "metadata": {},
   "outputs": [
    {
     "name": "stdout",
     "output_type": "stream",
     "text": [
      "[0.  0.1 0.2 0.3 0.4 0.5 0.6 0.7 0.8 0.9 1. ]\n"
     ]
    },
    {
     "data": {
      "text/plain": [
       "(11,)"
      ]
     },
     "execution_count": 9,
     "metadata": {},
     "output_type": "execute_result"
    }
   ],
   "source": [
    "#Exercise 8.1\n",
    "#a) float from 0.0 to 1.0 step 0.1, shape=(11,),\n",
    "import numpy as np\n",
    "x=np.arange(0.0,1.1,0.1,dtype=float)\n",
    "print(x)\n",
    "np.shape(x)"
   ]
  },
  {
   "cell_type": "code",
   "execution_count": 11,
   "id": "ed7f3582",
   "metadata": {},
   "outputs": [
    {
     "data": {
      "text/plain": [
       "(5, 6)"
      ]
     },
     "execution_count": 11,
     "metadata": {},
     "output_type": "execute_result"
    }
   ],
   "source": [
    "#b)int zeros (1 byte) with shape=(5,6),\n",
    "y = np.zeros((5, 6), dtype=int)\n",
    "np.shape(y)"
   ]
  },
  {
   "cell_type": "code",
   "execution_count": 31,
   "id": "daf51492",
   "metadata": {},
   "outputs": [
    {
     "name": "stdout",
     "output_type": "stream",
     "text": [
      "[ 1.+0.j  0.+1.j -1.+0.j -0.-1.j  1.+0.j  0.+1.j -1.+0.j -0.-1.j  1.+0.j]\n"
     ]
    }
   ],
   "source": [
    "#c)complex with shape=(9,), powers of x = complex(0, 1): 1, x, x**2, ..., x**8.\n",
    "out = complex(0,1)**np.arange(9)\n",
    "print(out)"
   ]
  },
  {
   "cell_type": "code",
   "execution_count": 20,
   "id": "63f4dd77",
   "metadata": {},
   "outputs": [
    {
     "name": "stdout",
     "output_type": "stream",
     "text": [
      "[0 1 2 3 4 5 6 7 8 9]\n",
      "[1 3 5 7 9]\n",
      "[9 8 7 6 5 4 3 2 1 0]\n"
     ]
    }
   ],
   "source": [
    "# Exercise 8.2\n",
    "#a) Create an arbitrary one dimensional array called v1.\n",
    "v1=np.arange(0,10,1)\n",
    "print(v1)\n",
    "\n",
    "#b)Create a new array v2 which consists of the odd indices of v1.\n",
    "v2=v1[1::2]\n",
    "print(v2)\n",
    "\n",
    "#c) Create a new array v3 in backwards ordering from v1.\n",
    "v3=v1[::-1]\n",
    "print(v3)"
   ]
  },
  {
   "cell_type": "code",
   "execution_count": 30,
   "id": "0981e25e",
   "metadata": {},
   "outputs": [
    {
     "name": "stdout",
     "output_type": "stream",
     "text": [
      "[[ 0  1  2  3  4]\n",
      " [ 5  6  7  8  9]\n",
      " [10 11 12 13 14]\n",
      " [15 16 17 18 19]]\n",
      "[[ 4  3  2  1  0]\n",
      " [ 9  8  7  6  5]\n",
      " [14 13 12 11 10]\n",
      " [19 18 17 16 15]]\n",
      "[[15 16 17 18 19]\n",
      " [10 11 12 13 14]\n",
      " [ 5  6  7  8  9]\n",
      " [ 0  1  2  3  4]]\n",
      "[[ 6  7  8]\n",
      " [11 12 13]]\n"
     ]
    }
   ],
   "source": [
    "# Exercise 8.3\n",
    "#a) Create a two dimensional array called m1, shape=(4,5)\n",
    "m1 = np.arange(20).reshape((4,5))\n",
    "print(m1)\n",
    "\n",
    "#b)Create a new array m2 from m1, in which the elements of each row are in reverse order.\n",
    "m2= np.flip(m1, axis=1)\n",
    "print(m2)\n",
    "\n",
    "#c)Create a new array m3 from m1, in which the elements of each column are in reverse order.\n",
    "m3= np.flip(m1, axis=0)\n",
    "print(m3)\n",
    "\n",
    "#d) Cut of the first and last row and the first and last column of m1.\n",
    "data=np.delete(m1, [0,3], 0)\n",
    "data1=np.delete(data,[0,4],1)\n",
    "print(data1)"
   ]
  },
  {
   "cell_type": "code",
   "execution_count": null,
   "id": "bb625c7e",
   "metadata": {},
   "outputs": [],
   "source": []
  }
 ],
 "metadata": {
  "kernelspec": {
   "display_name": "Python 3",
   "language": "python",
   "name": "python3"
  },
  "language_info": {
   "codemirror_mode": {
    "name": "ipython",
    "version": 3
   },
   "file_extension": ".py",
   "mimetype": "text/x-python",
   "name": "python",
   "nbconvert_exporter": "python",
   "pygments_lexer": "ipython3",
   "version": "3.8.8"
  }
 },
 "nbformat": 4,
 "nbformat_minor": 5
}
